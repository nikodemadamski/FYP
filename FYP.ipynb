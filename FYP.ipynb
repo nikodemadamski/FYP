{
  "nbformat": 4,
  "nbformat_minor": 0,
  "metadata": {
    "colab": {
      "name": "FYP",
      "provenance": [],
      "collapsed_sections": [],
      "authorship_tag": "ABX9TyO86hnbeepeb7l1Bp/RdeGo",
      "include_colab_link": true
    },
    "kernelspec": {
      "name": "python3",
      "display_name": "Python 3"
    },
    "language_info": {
      "name": "python"
    }
  },
  "cells": [
    {
      "cell_type": "markdown",
      "metadata": {
        "id": "view-in-github",
        "colab_type": "text"
      },
      "source": [
        "<a href=\"https://colab.research.google.com/github/nikodemadamski/FYP/blob/main/FYP.ipynb\" target=\"_parent\"><img src=\"https://colab.research.google.com/assets/colab-badge.svg\" alt=\"Open In Colab\"/></a>"
      ]
    },
    {
      "cell_type": "markdown",
      "source": [
        "# Start"
      ],
      "metadata": {
        "id": "Afl4Idknt41r"
      }
    },
    {
      "cell_type": "markdown",
      "source": [
        "## importing"
      ],
      "metadata": {
        "id": "T5bYil-qt-ID"
      }
    },
    {
      "cell_type": "markdown",
      "source": [
        "importing the data sets directly from github along side multiple handy imports i will to use in the future."
      ],
      "metadata": {
        "id": "fUQbqriOuwva"
      }
    },
    {
      "cell_type": "code",
      "execution_count": null,
      "metadata": {
        "id": "nyouocwsjCyE"
      },
      "outputs": [],
      "source": [
        "import numpy as np\n",
        "import pandas as pd \n",
        "import matplotlib.pyplot as plt\n",
        "import seaborn as sns\n",
        "from scipy import stats\n",
        "from scipy.stats import norm, skew\n",
        "from sklearn.model_selection import KFold, cross_val_score\n",
        "from sklearn.preprocessing import LabelEncoder\n",
        "%matplotlib inline\n",
        "import requests\n",
        "import io\n",
        "import re"
      ]
    },
    {
      "cell_type": "code",
      "source": [
        "url = 'https://raw.githubusercontent.com/nikodemadamski/FYP/main/celebrities%20dataset.csv'\n",
        "url2 = 'https://raw.githubusercontent.com/nikodemadamski/FYP/main/tiktok_1(1).csv'\n",
        "download = requests.get(url).content\n",
        "download2 = requests.get(url2).content\n",
        "\n",
        "\n",
        "df = pd.read_csv(io.StringIO(download.decode('utf-8')))\n",
        "df2 = pd.read_csv(io.StringIO(download2.decode('utf-8')))"
      ],
      "metadata": {
        "id": "BFBYu6dAqLTZ"
      },
      "execution_count": null,
      "outputs": []
    },
    {
      "cell_type": "markdown",
      "source": [
        "### testing"
      ],
      "metadata": {
        "id": "BiaT4x31uB-J"
      }
    },
    {
      "cell_type": "code",
      "source": [
        "print(df.head(10))"
      ],
      "metadata": {
        "colab": {
          "base_uri": "https://localhost:8080/"
        },
        "id": "cAF7zPr-td4o",
        "outputId": "6ad986f9-34a2-43ee-a320-c6af55ea91f9"
      },
      "execution_count": null,
      "outputs": [
        {
          "output_type": "stream",
          "name": "stdout",
          "text": [
            "     Month  Charli D'Amelio web  Charli D'Amelio yt Charli D'Amelio image  \\\n",
            "0  2016-01                  5.0                 5.0                     3   \n",
            "1  2016-02                  4.0                 5.0                     2   \n",
            "2  2016-03                  4.0                 4.0                     2   \n",
            "3  2016-04                  4.0                 4.0                     1   \n",
            "4  2016-05                  3.0                 4.0                     1   \n",
            "5  2016-06                  3.0                 3.0                     1   \n",
            "6  2016-07                  3.0                 4.0                     1   \n",
            "7  2016-08                  3.0                 4.0                     1   \n",
            "8  2016-09                  3.0                 3.0                     2   \n",
            "9  2016-10                  3.0                 4.0                     1   \n",
            "\n",
            "   Charli D'Amelio news  Charli D'Amelio Total  Jules LeBlanc web  \\\n",
            "0                   1.0                   3.50                8.0   \n",
            "1                   1.0                   3.00                9.0   \n",
            "2                   0.0                   2.50                7.0   \n",
            "3                   1.0                   2.50                9.0   \n",
            "4                   1.0                   2.25               11.0   \n",
            "5                   0.0                   1.75               14.0   \n",
            "6                   0.0                   2.00               20.0   \n",
            "7                   1.0                   2.25               20.0   \n",
            "8                   1.0                   2.25               11.0   \n",
            "9                   0.0                   2.00               10.0   \n",
            "\n",
            "   Jules LeBlanc yt  Jules LeBlanc image  Jules LeBlanc news  ...  \\\n",
            "0               3.0                  3.0                 7.0  ...   \n",
            "1               3.0                  7.0                 0.0  ...   \n",
            "2               5.0                  8.0                 6.0  ...   \n",
            "3               4.0                  9.0                 0.0  ...   \n",
            "4               5.0                 11.0                 7.0  ...   \n",
            "5               8.0                 12.0                 0.0  ...   \n",
            "6              14.0                 18.0                 0.0  ...   \n",
            "7               9.0                 17.0                 0.0  ...   \n",
            "8               8.0                  9.0                 7.0  ...   \n",
            "9               8.0                 13.0                 6.0  ...   \n",
            "\n",
            "   Cole Sprouse web Cole Sprouse yt Cole Sprouse image Cole Sprouse news  \\\n",
            "0               9.0             4.0               26.0               3.0   \n",
            "1              11.0             6.0               26.0               3.0   \n",
            "2              11.0             7.0               25.0               4.0   \n",
            "3               9.0             6.0               21.0               3.0   \n",
            "4               8.0             6.0               18.0               5.0   \n",
            "5              15.0            12.0               36.0               5.0   \n",
            "6              12.0            11.0               29.0               3.0   \n",
            "7              10.0            10.0               24.0               4.0   \n",
            "8               6.0             6.0               15.0               2.0   \n",
            "9               6.0             6.0               13.0               2.0   \n",
            "\n",
            "   Cole Sprouse Total  Joe Biden web  Joe Biden yt  Joe Biden image  \\\n",
            "0               10.50             <1             1                1   \n",
            "1               11.50              1             1                1   \n",
            "2               11.75              1             1                1   \n",
            "3                9.75             <1             1                1   \n",
            "4                9.25              1             1                1   \n",
            "5               17.00             <1             1               <1   \n",
            "6               13.75              1             3                1   \n",
            "7               12.00             <1             2                1   \n",
            "8                7.25              1             1               <1   \n",
            "9                6.75              1             2                1   \n",
            "\n",
            "   Joe Biden news  Joe Biden Total  \n",
            "0               1                1  \n",
            "1               1                1  \n",
            "2               1                1  \n",
            "3               1                1  \n",
            "4               1                1  \n",
            "5               1                1  \n",
            "6               1              1.5  \n",
            "7               1      1.333333333  \n",
            "8               1                1  \n",
            "9               1             1.25  \n",
            "\n",
            "[10 rows x 246 columns]\n"
          ]
        }
      ]
    },
    {
      "cell_type": "code",
      "source": [
        "print(df2.head(100))"
      ],
      "metadata": {
        "colab": {
          "base_uri": "https://localhost:8080/"
        },
        "id": "c8EptJyEtgCD",
        "outputId": "9b309cd0-273e-4304-f1b2-e3f57967bd20"
      },
      "execution_count": null,
      "outputs": [
        {
          "output_type": "stream",
          "name": "stdout",
          "text": [
            "               Name  Following Followers  Likes  Views      V_Date V_Likes  \\\n",
            "0   charlidamelio         1267    136.7M  10.6B   1.4M     3h ago   342.1K   \n",
            "1   charlidamelio         1267    136.7M  10.6B   4.4M     2d ago   799.3K   \n",
            "2   charlidamelio         1267    136.7M  10.6B    27M     4d ago     5.8M   \n",
            "3   charlidamelio         1267    136.7M  10.6B   9.8M     4d ago     1.5M   \n",
            "4   charlidamelio         1267    136.7M  10.6B   6.5M     4d ago   828.5K   \n",
            "..              ...        ...       ...    ...    ...         ...     ...   \n",
            "95  charlidamelio         1267    136.7M  10.6B  18.8M  2021-12-10    2.4M   \n",
            "96  charlidamelio         1267    136.7M  10.6B  16.2M  2021-12-10    2.1M   \n",
            "97  charlidamelio         1267    136.7M  10.6B    18M   2021-12-9    1.4M   \n",
            "98  charlidamelio         1267    136.7M  10.6B    19M   2021-12-9    2.7M   \n",
            "99  charlidamelio         1267    136.7M  10.6B  17.2M   2021-12-9      2M   \n",
            "\n",
            "   V_Comments  \n",
            "0         19K  \n",
            "1       55.6K  \n",
            "2       83.1K  \n",
            "3       35.4K  \n",
            "4       31.4K  \n",
            "..        ...  \n",
            "95      34.1K  \n",
            "96      34.6K  \n",
            "97      39.8K  \n",
            "98      49.8K  \n",
            "99      29.8K  \n",
            "\n",
            "[100 rows x 8 columns]\n"
          ]
        }
      ]
    },
    {
      "cell_type": "code",
      "source": [
        "df2.dtypes"
      ],
      "metadata": {
        "colab": {
          "base_uri": "https://localhost:8080/"
        },
        "id": "GRiUp0kZNl0p",
        "outputId": "17fbc4a0-32ca-4596-b99a-4200caad3c55"
      },
      "execution_count": null,
      "outputs": [
        {
          "output_type": "execute_result",
          "data": {
            "text/plain": [
              "Name          object\n",
              "Following      int64\n",
              "Followers     object\n",
              "Likes         object\n",
              "Views         object\n",
              "V_Date        object\n",
              "V_Likes       object\n",
              "V_Comments    object\n",
              "dtype: object"
            ]
          },
          "metadata": {},
          "execution_count": 396
        }
      ]
    },
    {
      "cell_type": "markdown",
      "source": [
        "## Eda"
      ],
      "metadata": {
        "id": "yfUyWb_DuEu4"
      }
    },
    {
      "cell_type": "markdown",
      "source": [
        "I have to now change data set 2 , this will be in 2 ways, 1 will eliminate all data with V_date from after 2021, Second will average the videos from daily videos to monthly videos averages to be able to correlate with the data from the first data set"
      ],
      "metadata": {
        "id": "kWp4qai1uGO1"
      }
    },
    {
      "cell_type": "markdown",
      "source": [
        "### 1"
      ],
      "metadata": {
        "id": "G4H62ORKu-4J"
      }
    },
    {
      "cell_type": "markdown",
      "source": [
        " eliminating all data after 2021\n",
        " [Reference](https://www.statology.org/pandas-sum-column-with-condition/)"
      ],
      "metadata": {
        "id": "oicrm482ucjm"
      }
    },
    {
      "cell_type": "code",
      "source": [
        "df2 = df2[df2[\"V_Date\"].str.contains(\"ago\")==False]"
      ],
      "metadata": {
        "id": "zc6MJIE6LLbQ"
      },
      "execution_count": null,
      "outputs": []
    },
    {
      "cell_type": "code",
      "source": [
        "df2 = df2[df2['V_Date'].between('2016-01-01', '2021-31-01')]"
      ],
      "metadata": {
        "id": "R1I9c-E2MgYl"
      },
      "execution_count": null,
      "outputs": []
    },
    {
      "cell_type": "markdown",
      "source": [
        "### 1.5\n",
        " Changing B into Billions, M into million and K into Thousands\n",
        " And Changing notation on values that are too large e.g 10.6B from Float to int as none of the large values have an exact amount so they are rounded to the nearest Billion,Million or thousand\n",
        "  [Reference](https://stackoverflow.com/questions/39684548/convert-the-string-2-90k-to-2900-or-5-2m-to-5200000-in-pandas-dataframe)\n",
        "  [Reference2](https://stackoverflow.com/questions/658763/how-to-suppress-scientific-notation-when-printing-float-values)"
      ],
      "metadata": {
        "id": "WfiGmijXV40z"
      }
    },
    {
      "cell_type": "code",
      "source": [
        "df2.Views = (df2.Views.replace(r'[KMB]+$', '', regex=True).astype(float) * \\\n",
        "                   df2.Views.str.extract(r'[\\d\\.]+([KMB]+)', expand=False)\n",
        "                   .fillna(1)\n",
        "                   .replace(['K','M','B'], [10**3, 10**6,10**9]).astype(int))"
      ],
      "metadata": {
        "id": "a4i1X0aHZ-4O"
      },
      "execution_count": null,
      "outputs": []
    },
    {
      "cell_type": "code",
      "source": [
        "df2.V_Likes = (df2.V_Likes.replace(r'[KMB]+$', '', regex=True).astype(float) * \\\n",
        "                   df2.V_Likes.str.extract(r'[\\d\\.]+([KMB]+)', expand=False)\n",
        "                   .fillna(1)\n",
        "                   .replace(['K','M','B'], [10**3, 10**6,10**9]).astype(int))"
      ],
      "metadata": {
        "id": "P4FR5ED5aiPA"
      },
      "execution_count": null,
      "outputs": []
    },
    {
      "cell_type": "code",
      "source": [
        "df2.V_Comments = (df2.V_Comments.replace(r'[KMB]+$', '', regex=True).astype(float) * \\\n",
        "                   df2.V_Comments.str.extract(r'[\\d\\.]+([KMB]+)', expand=False)\n",
        "                   .fillna(1)\n",
        "                   .replace(['K','M','B'], [10**3, 10**6,10**9]).astype(int))"
      ],
      "metadata": {
        "id": "QzG_d93navOA"
      },
      "execution_count": null,
      "outputs": []
    },
    {
      "cell_type": "code",
      "source": [
        "df2.Likes = (df2.Likes.replace(r'[KMB]+$', '', regex=True).astype(float) * \\\n",
        "                   df2.Likes.str.extract(r'[\\d\\.]+([KMB]+)', expand=False)\n",
        "                   .fillna(1)\n",
        "                   .replace(['K','M','B'], [10**3, 10**6,10**9]).astype(int))"
      ],
      "metadata": {
        "id": "gFDwTCoOa5mg"
      },
      "execution_count": null,
      "outputs": []
    },
    {
      "cell_type": "code",
      "source": [
        "df2.Followers = (df2.Followers.replace(r'[KMB]+$', '', regex=True).astype(float) * \\\n",
        "                   df2.Followers.str.extract(r'[\\d\\.]+([KMB]+)', expand=False)\n",
        "                   .fillna(1)\n",
        "                   .replace(['K','M','B'], [10**3, 10**6,10**9]).astype(int))"
      ],
      "metadata": {
        "id": "oEng88nlbCch"
      },
      "execution_count": null,
      "outputs": []
    },
    {
      "cell_type": "code",
      "source": [
        "print(df2.head(10))"
      ],
      "metadata": {
        "colab": {
          "base_uri": "https://localhost:8080/"
        },
        "id": "tnp9XaoGZXqU",
        "outputId": "fcc4b88f-49bc-4fa4-ad91-c2e2d2417f1d"
      },
      "execution_count": null,
      "outputs": [
        {
          "output_type": "stream",
          "name": "stdout",
          "text": [
            "               Name  Following    Followers         Likes       Views  \\\n",
            "70  charlidamelio         1267  136700000.0  1.060000e+10  16800000.0   \n",
            "71  charlidamelio         1267  136700000.0  1.060000e+10  15200000.0   \n",
            "72  charlidamelio         1267  136700000.0  1.060000e+10  12000000.0   \n",
            "73  charlidamelio         1267  136700000.0  1.060000e+10  13400000.0   \n",
            "74  charlidamelio         1267  136700000.0  1.060000e+10  21400000.0   \n",
            "75  charlidamelio         1267  136700000.0  1.060000e+10  15000000.0   \n",
            "76  charlidamelio         1267  136700000.0  1.060000e+10  13100000.0   \n",
            "77  charlidamelio         1267  136700000.0  1.060000e+10  20600000.0   \n",
            "78  charlidamelio         1267  136700000.0  1.060000e+10  13100000.0   \n",
            "79  charlidamelio         1267  136700000.0  1.060000e+10  25700000.0   \n",
            "\n",
            "        V_Date    V_Likes  V_Comments  \n",
            "70  2021-12-31  2100000.0     43600.0  \n",
            "71  2021-12-29  1000000.0     24400.0  \n",
            "72  2021-12-28   693300.0     15800.0  \n",
            "73  2021-12-28   859300.0     22200.0  \n",
            "74  2021-12-25  2400000.0     38400.0  \n",
            "75  2021-12-23  1300000.0     25100.0  \n",
            "76  2021-12-23   986500.0     19300.0  \n",
            "77  2021-12-20  2300000.0     39900.0  \n",
            "78  2021-12-19   892600.0     23500.0  \n",
            "79  2021-12-18  3200000.0     54900.0  \n"
          ]
        }
      ]
    },
    {
      "cell_type": "code",
      "source": [
        "# repl_dict = {'[kK]': '*1e3', '[mM]': '*1e6', '[bB]': '*1e9', }\n",
        "# df2['Views'].replace(repl_dict, regex=True).map(pd.eval)"
      ],
      "metadata": {
        "id": "18bnUUrGTo6m"
      },
      "execution_count": null,
      "outputs": []
    },
    {
      "cell_type": "code",
      "source": [
        "tList = ['Following','Followers','Likes','Views','V_Likes','V_Comments']\n",
        "for x in tList:\n",
        "  df2[x]=df2[x].astype(int)"
      ],
      "metadata": {
        "id": "mxeWW8i4i6UK"
      },
      "execution_count": null,
      "outputs": []
    },
    {
      "cell_type": "code",
      "source": [
        "print(df2.dtypes)"
      ],
      "metadata": {
        "colab": {
          "base_uri": "https://localhost:8080/"
        },
        "id": "mCYFJujiQyiB",
        "outputId": "7a8af224-e77c-48f3-c814-36c78c3a0e02"
      },
      "execution_count": null,
      "outputs": [
        {
          "output_type": "stream",
          "name": "stdout",
          "text": [
            "Name          object\n",
            "Following      int64\n",
            "Followers      int64\n",
            "Likes          int64\n",
            "Views          int64\n",
            "V_Date        object\n",
            "V_Likes        int64\n",
            "V_Comments     int64\n",
            "dtype: object\n"
          ]
        }
      ]
    },
    {
      "cell_type": "code",
      "source": [
        "print(df2.head(10))"
      ],
      "metadata": {
        "colab": {
          "base_uri": "https://localhost:8080/"
        },
        "id": "8-PeUf2XjnKC",
        "outputId": "dab66cb8-e5f1-4dad-a474-7b38e4e090cf"
      },
      "execution_count": null,
      "outputs": [
        {
          "output_type": "stream",
          "name": "stdout",
          "text": [
            "               Name  Following  Followers        Likes     Views      V_Date  \\\n",
            "70  charlidamelio         1267  136700000  10600000000  16800000  2021-12-31   \n",
            "71  charlidamelio         1267  136700000  10600000000  15200000  2021-12-29   \n",
            "72  charlidamelio         1267  136700000  10600000000  12000000  2021-12-28   \n",
            "73  charlidamelio         1267  136700000  10600000000  13400000  2021-12-28   \n",
            "74  charlidamelio         1267  136700000  10600000000  21400000  2021-12-25   \n",
            "75  charlidamelio         1267  136700000  10600000000  15000000  2021-12-23   \n",
            "76  charlidamelio         1267  136700000  10600000000  13100000  2021-12-23   \n",
            "77  charlidamelio         1267  136700000  10600000000  20600000  2021-12-20   \n",
            "78  charlidamelio         1267  136700000  10600000000  13100000  2021-12-19   \n",
            "79  charlidamelio         1267  136700000  10600000000  25700000  2021-12-18   \n",
            "\n",
            "    V_Likes  V_Comments  \n",
            "70  2100000       43600  \n",
            "71  1000000       24400  \n",
            "72   693300       15800  \n",
            "73   859300       22200  \n",
            "74  2400000       38400  \n",
            "75  1300000       25100  \n",
            "76   986500       19300  \n",
            "77  2300000       39900  \n",
            "78   892600       23500  \n",
            "79  3200000       54900  \n"
          ]
        }
      ]
    },
    {
      "cell_type": "markdown",
      "source": [
        "### 2"
      ],
      "metadata": {
        "id": "lwQfr5GTvDtK"
      }
    },
    {
      "cell_type": "markdown",
      "source": [
        "averaging into monthly videos"
      ],
      "metadata": {
        "id": "7PvALs4XvEys"
      }
    },
    {
      "cell_type": "markdown",
      "source": [
        "first lets change the V_date from a string into a valid time"
      ],
      "metadata": {
        "id": "c8D3K0EKnF1g"
      }
    },
    {
      "cell_type": "code",
      "source": [
        "df2[\"V_Date\"] = pd.to_datetime(df2[\"V_Date\"])"
      ],
      "metadata": {
        "id": "f8NBVGUANtAh"
      },
      "execution_count": null,
      "outputs": []
    },
    {
      "cell_type": "markdown",
      "source": [
        "next lets try to group by time\n",
        "  [Reference](https://stackoverflow.com/questions/65471540/get-monthly-average-in-pandas)"
      ],
      "metadata": {
        "id": "04SAxzdonN_R"
      }
    },
    {
      "cell_type": "code",
      "source": [
        "tList = ['Following','Followers','Likes','Views','V_Likes','V_Comments']\n",
        "for x in tList:\n",
        "  df2[x]=df2[x].astype(int)"
      ],
      "metadata": {
        "id": "GgY4BcPFnoOj"
      },
      "execution_count": null,
      "outputs": []
    },
    {
      "cell_type": "code",
      "source": [
        "df3 = df2.groupby(pd.PeriodIndex(df2['V_Date'], freq=\"M\"))['Views','V_Likes','V_Comments'].mean()\n",
        "print(df3)"
      ],
      "metadata": {
        "colab": {
          "base_uri": "https://localhost:8080/"
        },
        "id": "0AzG_J4hk-PU",
        "outputId": "dea6254f-7793-4cb6-d8e9-89ceba8123ef"
      },
      "execution_count": null,
      "outputs": [
        {
          "output_type": "stream",
          "name": "stdout",
          "text": [
            "                Views       V_Likes    V_Comments\n",
            "V_Date                                           \n",
            "2016-01  5.484648e+05  4.999160e+05   2965.936585\n",
            "2016-02  4.057512e+05  3.896661e+05   2134.005405\n",
            "2016-03  4.627162e+05  4.498662e+05   2245.897778\n",
            "2016-04  5.292238e+05  5.059840e+05   3287.063415\n",
            "2016-05  1.274229e+06  5.173310e+05   5456.022901\n",
            "...               ...           ...           ...\n",
            "2021-02  1.399370e+07  1.812822e+06  31609.176245\n",
            "2021-03  1.487278e+07  1.908479e+06  28983.425606\n",
            "2021-10  9.709744e+06  1.224237e+06  15677.537931\n",
            "2021-11  8.835518e+06  1.089247e+06  10806.786571\n",
            "2021-12  8.275140e+06  9.479924e+05  11390.745140\n",
            "\n",
            "[64 rows x 3 columns]\n"
          ]
        },
        {
          "output_type": "stream",
          "name": "stderr",
          "text": [
            "/usr/local/lib/python3.7/dist-packages/ipykernel_launcher.py:1: FutureWarning: Indexing with multiple keys (implicitly converted to a tuple of keys) will be deprecated, use a list instead.\n",
            "  \"\"\"Entry point for launching an IPython kernel.\n"
          ]
        }
      ]
    },
    {
      "cell_type": "code",
      "source": [
        "print(df3.dtypes)"
      ],
      "metadata": {
        "colab": {
          "base_uri": "https://localhost:8080/"
        },
        "id": "HHEt6IqmpeRv",
        "outputId": "7ee8dfb3-1e23-41e8-8984-9ea2f51bf3a3"
      },
      "execution_count": null,
      "outputs": [
        {
          "output_type": "stream",
          "name": "stdout",
          "text": [
            "Views         float64\n",
            "V_Likes       float64\n",
            "V_Comments    float64\n",
            "dtype: object\n"
          ]
        }
      ]
    },
    {
      "cell_type": "code",
      "source": [
        "tList = ['Views','V_Likes','V_Comments']\n",
        "for x in tList:\n",
        "  df3[x]=df3[x].astype(int)"
      ],
      "metadata": {
        "id": "FPhZ11g3ozLK"
      },
      "execution_count": null,
      "outputs": []
    },
    {
      "cell_type": "code",
      "source": [
        "print(df3)"
      ],
      "metadata": {
        "colab": {
          "base_uri": "https://localhost:8080/"
        },
        "id": "EQP_-kKNo2Wa",
        "outputId": "34df2fd3-943f-4427-b6e1-5712f3d29f94"
      },
      "execution_count": null,
      "outputs": [
        {
          "output_type": "stream",
          "name": "stdout",
          "text": [
            "            Views  V_Likes  V_Comments\n",
            "V_Date                                \n",
            "2016-01    548464   499916        2965\n",
            "2016-02    405751   389666        2134\n",
            "2016-03    462716   449866        2245\n",
            "2016-04    529223   505983        3287\n",
            "2016-05   1274228   517331        5456\n",
            "...           ...      ...         ...\n",
            "2021-02  13993701  1812821       31609\n",
            "2021-03  14872775  1908478       28983\n",
            "2021-10   9709744  1224236       15677\n",
            "2021-11   8835518  1089247       10806\n",
            "2021-12   8275139   947992       11390\n",
            "\n",
            "[64 rows x 3 columns]\n"
          ]
        }
      ]
    },
    {
      "cell_type": "markdown",
      "source": [
        "##EDA2"
      ],
      "metadata": {
        "id": "RYrJX2EhlnoD"
      }
    },
    {
      "cell_type": "markdown",
      "source": [
        "divide the df into a 2nd dataset whcih will combine all totals into people who do not have tiktok which will be my control data and people who do have it,\n",
        "further analysis will continue by dividing the celebrities up into more groups for a more in debth analysis\n"
      ],
      "metadata": {
        "id": "jVRYleEylwY9"
      }
    },
    {
      "cell_type": "code",
      "source": [
        "n_list = ['web', 'yt', 'image', 'news']\n",
        "for x in n_list:\n",
        "  df2 = df[df.TITLE.contains(x)==False]"
      ],
      "metadata": {
        "id": "n1r7kMhru3Eq"
      },
      "execution_count": null,
      "outputs": []
    },
    {
      "cell_type": "code",
      "source": [
        "print(df.head(72))"
      ],
      "metadata": {
        "id": "Sw8dit0Vu4fS"
      },
      "execution_count": null,
      "outputs": []
    }
  ]
}